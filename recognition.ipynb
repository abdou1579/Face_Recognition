{
 "cells": [
  {
   "cell_type": "code",
   "execution_count": 1,
   "metadata": {},
   "outputs": [],
   "source": [
    "import face_recognition as fr\n",
    "import os\n",
    "import cv2\n",
    "import face_recognition\n",
    "import numpy as np\n",
    "from time import sleep"
   ]
  },
  {
   "cell_type": "markdown",
   "metadata": {},
   "source": [
    "We create a function that encodes the images"
   ]
  },
  {
   "cell_type": "code",
   "execution_count": 2,
   "metadata": {},
   "outputs": [],
   "source": [
    "def encode_pic():\n",
    "    encoded = {}\n",
    "\n",
    "    for dirpath, dnames, fnames in os.walk(\"./faces\"):\n",
    "        for f in fnames:\n",
    "            if f.endswith(\".jpg\") or f.endswith(\".png\"):\n",
    "                face = fr.load_image_file(\"faces/\" + f)\n",
    "                encoding = fr.face_encodings(face)[0]\n",
    "                encoded[f.split(\".\")[0]] = encoding\n",
    "\n",
    "    return encoded"
   ]
  },
  {
   "cell_type": "markdown",
   "metadata": {},
   "source": [
    "we encode a face while giving a name"
   ]
  },
  {
   "cell_type": "code",
   "execution_count": 3,
   "metadata": {},
   "outputs": [],
   "source": [
    "def image_encoded(img):\n",
    "    face = fr.load_image_file(\"faces/\" + img)\n",
    "    encoding = fr.face_encodings(face)[0]\n",
    "\n",
    "    return encoding"
   ]
  },
  {
   "cell_type": "markdown",
   "metadata": {},
   "source": [
    "The classifier that will give the final resault"
   ]
  },
  {
   "cell_type": "code",
   "execution_count": 4,
   "metadata": {},
   "outputs": [],
   "source": [
    "def classify_face(im):\n",
    "    faces = get_encoded_faces()\n",
    "    faces_encoded = list(faces.values())\n",
    "    known_face_names = list(faces.keys())\n",
    "\n",
    "    img = cv2.imread(im, 1)\n",
    "    #img = cv2.resize(img, (0, 0), fx=0.5, fy=0.5)\n",
    "    #img = img[:,:,::-1]\n",
    " \n",
    "    face_locations = face_recognition.face_locations(img)\n",
    "    unknown_face_encodings = face_recognition.face_encodings(img, face_locations)\n",
    "\n",
    "    face_names = []\n",
    "    for face_encoding in unknown_face_encodings:\n",
    "        # See if the face is a match for the known face(s)\n",
    "        matches = face_recognition.compare_faces(faces_encoded, face_encoding)\n",
    "        name = \"Unknown\"\n",
    "\n",
    "        # use the known face with the smallest distance to the new face\n",
    "        face_distances = face_recognition.face_distance(faces_encoded, face_encoding)\n",
    "        best_match_index = np.argmin(face_distances)\n",
    "        if matches[best_match_index]:\n",
    "            name = known_face_names[best_match_index]\n",
    "\n",
    "        face_names.append(name)\n",
    "\n",
    "        for (top, right, bottom, left), name in zip(face_locations, face_names):\n",
    "            # Draw a box around the face\n",
    "            cv2.rectangle(img, (left-20, top-20), (right+20, bottom+20), (255, 0, 0), 2)\n",
    "\n",
    "            # Draw a label with a name below the face\n",
    "            cv2.rectangle(img, (left-20, bottom -15), (right+20, bottom+20), (255, 0, 0), cv2.FILLED)\n",
    "            font = cv2.FONT_HERSHEY_DUPLEX\n",
    "            cv2.putText(img, name, (left -20, bottom + 15), font, 1.0, (255, 255, 255), 2)\n",
    "\n",
    "\n",
    "    # Display the resulting image\n",
    "    while True:\n",
    "\n",
    "        cv2.imshow('Video', img)\n",
    "        if cv2.waitKey(1) & 0xFF == ord('q'):\n",
    "            return face_names "
   ]
  },
  {
   "cell_type": "markdown",
   "metadata": {},
   "source": [
    "we get the resault"
   ]
  },
  {
   "cell_type": "code",
   "execution_count": 5,
   "metadata": {},
   "outputs": [
    {
     "ename": "KeyboardInterrupt",
     "evalue": "",
     "output_type": "error",
     "traceback": [
      "\u001b[1;31m---------------------------------------------------------------------------\u001b[0m",
      "\u001b[1;31mKeyboardInterrupt\u001b[0m                         Traceback (most recent call last)",
      "\u001b[1;32mc:\\Users\\asus zephyrus\\Desktop\\face_rec\\recognition.ipynb Cell 9'\u001b[0m in \u001b[0;36m<cell line: 1>\u001b[1;34m()\u001b[0m\n\u001b[1;32m----> <a href='vscode-notebook-cell:/c%3A/Users/asus%20zephyrus/Desktop/face_rec/recognition.ipynb#ch0000007?line=0'>1</a>\u001b[0m \u001b[39mprint\u001b[39m(classify_face(\u001b[39m\"\u001b[39;49m\u001b[39mtest.jpg\u001b[39;49m\u001b[39m\"\u001b[39;49m))\n",
      "\u001b[1;32mc:\\Users\\asus zephyrus\\Desktop\\face_rec\\recognition.ipynb Cell 7'\u001b[0m in \u001b[0;36mclassify_face\u001b[1;34m(im)\u001b[0m\n\u001b[0;32m     <a href='vscode-notebook-cell:/c%3A/Users/asus%20zephyrus/Desktop/face_rec/recognition.ipynb#ch0000005?line=37'>38</a>\u001b[0m \u001b[39mwhile\u001b[39;00m \u001b[39mTrue\u001b[39;00m:\n\u001b[0;32m     <a href='vscode-notebook-cell:/c%3A/Users/asus%20zephyrus/Desktop/face_rec/recognition.ipynb#ch0000005?line=39'>40</a>\u001b[0m     cv2\u001b[39m.\u001b[39mimshow(\u001b[39m'\u001b[39m\u001b[39mVideo\u001b[39m\u001b[39m'\u001b[39m, img)\n\u001b[1;32m---> <a href='vscode-notebook-cell:/c%3A/Users/asus%20zephyrus/Desktop/face_rec/recognition.ipynb#ch0000005?line=40'>41</a>\u001b[0m     \u001b[39mif\u001b[39;00m cv2\u001b[39m.\u001b[39;49mwaitKey(\u001b[39m1\u001b[39;49m) \u001b[39m&\u001b[39m \u001b[39m0xFF\u001b[39m \u001b[39m==\u001b[39m \u001b[39mord\u001b[39m(\u001b[39m'\u001b[39m\u001b[39mq\u001b[39m\u001b[39m'\u001b[39m):\n\u001b[0;32m     <a href='vscode-notebook-cell:/c%3A/Users/asus%20zephyrus/Desktop/face_rec/recognition.ipynb#ch0000005?line=41'>42</a>\u001b[0m         \u001b[39mreturn\u001b[39;00m face_names\n",
      "\u001b[1;31mKeyboardInterrupt\u001b[0m: "
     ]
    },
    {
     "ename": "",
     "evalue": "",
     "output_type": "error",
     "traceback": [
      "\u001b[1;31mThe Kernel crashed while executing code in the the current cell or a previous cell. Please review the code in the cell(s) to identify a possible cause of the failure. Click <a href='https://aka.ms/vscodeJupyterKernelCrash'>here</a> for more info. View Jupyter <a href='command:jupyter.viewOutput'>log</a> for further details."
     ]
    }
   ],
   "source": [
    "print(classify_face(\"test.jpg\"))\n"
   ]
  }
 ],
 "metadata": {
  "interpreter": {
   "hash": "e03268e6a6edf64058914c3483354e384bb2ac295c10776263c3aa47ebedfcc9"
  },
  "kernelspec": {
   "display_name": "Python 3.10.4 64-bit",
   "language": "python",
   "name": "python3"
  },
  "language_info": {
   "codemirror_mode": {
    "name": "ipython",
    "version": 3
   },
   "file_extension": ".py",
   "mimetype": "text/x-python",
   "name": "python",
   "nbconvert_exporter": "python",
   "pygments_lexer": "ipython3",
   "version": "3.10.4"
  },
  "orig_nbformat": 4
 },
 "nbformat": 4,
 "nbformat_minor": 2
}
